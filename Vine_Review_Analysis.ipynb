{
  "nbformat": 4,
  "nbformat_minor": 0,
  "metadata": {
    "colab": {
      "provenance": []
    },
    "kernelspec": {
      "name": "python3",
      "display_name": "Python 3"
    },
    "language_info": {
      "name": "python"
    }
  },
  "cells": [
    {
      "cell_type": "code",
      "execution_count": 1,
      "metadata": {
        "colab": {
          "base_uri": "https://localhost:8080/"
        },
        "id": "XBDjYa-Mkj5n",
        "outputId": "1b6837e5-9f06-4100-a906-79f82831512f"
      },
      "outputs": [
        {
          "output_type": "stream",
          "name": "stdout",
          "text": [
            "Get:1 https://cloud.r-project.org/bin/linux/ubuntu bionic-cran40/ InRelease [3,626 B]\n",
            "Hit:2 http://archive.ubuntu.com/ubuntu bionic InRelease\n",
            "Hit:3 http://ppa.launchpad.net/c2d4u.team/c2d4u4.0+/ubuntu bionic InRelease\n",
            "Ign:4 https://developer.download.nvidia.com/compute/machine-learning/repos/ubuntu1804/x86_64  InRelease\n",
            "Hit:5 https://developer.download.nvidia.com/compute/cuda/repos/ubuntu1804/x86_64  InRelease\n",
            "Hit:6 https://developer.download.nvidia.com/compute/machine-learning/repos/ubuntu1804/x86_64  Release\n",
            "Get:7 http://security.ubuntu.com/ubuntu bionic-security InRelease [88.7 kB]\n",
            "Get:8 http://archive.ubuntu.com/ubuntu bionic-updates InRelease [88.7 kB]\n",
            "Hit:9 http://ppa.launchpad.net/cran/libgit2/ubuntu bionic InRelease\n",
            "Hit:10 http://ppa.launchpad.net/deadsnakes/ppa/ubuntu bionic InRelease\n",
            "Get:11 http://archive.ubuntu.com/ubuntu bionic-backports InRelease [83.3 kB]\n",
            "Get:12 http://ppa.launchpad.net/graphics-drivers/ppa/ubuntu bionic InRelease [21.3 kB]\n",
            "Get:14 http://archive.ubuntu.com/ubuntu bionic-updates/multiverse amd64 Packages [30.9 kB]\n",
            "Get:15 http://archive.ubuntu.com/ubuntu bionic-updates/restricted amd64 Packages [1,389 kB]\n",
            "Get:16 http://security.ubuntu.com/ubuntu bionic-security/restricted amd64 Packages [1,349 kB]\n",
            "Get:17 http://archive.ubuntu.com/ubuntu bionic-updates/universe amd64 Packages [2,348 kB]\n",
            "Get:18 http://archive.ubuntu.com/ubuntu bionic-updates/main amd64 Packages [3,549 kB]\n",
            "Get:19 http://security.ubuntu.com/ubuntu bionic-security/main amd64 Packages [3,127 kB]\n",
            "Get:20 http://security.ubuntu.com/ubuntu bionic-security/universe amd64 Packages [1,573 kB]\n",
            "Get:21 http://ppa.launchpad.net/graphics-drivers/ppa/ubuntu bionic/main amd64 Packages [43.2 kB]\n",
            "Fetched 13.7 MB in 4s (3,324 kB/s)\n",
            "Reading package lists... Done\n"
          ]
        }
      ],
      "source": [
        "import os\n",
        "# Find the latest version of spark 3.2 from http://www.apache.org/dist/spark/ and enter as the spark version\n",
        "# For example:\n",
        "# spark_version = 'spark-3.2.3'\n",
        "spark_version = 'spark-3.2.3'\n",
        "os.environ['SPARK_VERSION']=spark_version\n",
        "\n",
        "# Install Spark and Java\n",
        "!apt-get update\n",
        "!apt-get install openjdk-11-jdk-headless -qq > /dev/null\n",
        "!wget -q http://www.apache.org/dist/spark/$SPARK_VERSION/$SPARK_VERSION-bin-hadoop2.7.tgz\n",
        "!tar xf $SPARK_VERSION-bin-hadoop2.7.tgz\n",
        "!pip install -q findspark\n",
        "\n",
        "# Set Environment Variables\n",
        "import os\n",
        "os.environ[\"JAVA_HOME\"] = \"/usr/lib/jvm/java-11-openjdk-amd64\"\n",
        "os.environ[\"SPARK_HOME\"] = f\"/content/{spark_version}-bin-hadoop2.7\"\n",
        "\n",
        "# Start a SparkSession\n",
        "import findspark\n",
        "findspark.init()"
      ]
    },
    {
      "cell_type": "code",
      "source": [
        "# Start Spark session\n",
        "from pyspark.sql import SparkSession\n",
        "spark = SparkSession.builder.appName(\"Vine_Review_Analysis\").getOrCreate()"
      ],
      "metadata": {
        "id": "ffQXjVyXktfR"
      },
      "execution_count": 2,
      "outputs": []
    },
    {
      "cell_type": "code",
      "source": [
        "from pyspark import SparkFiles\n",
        "url = \"https://s3.amazonaws.com/amazon-reviews-pds/tsv/amazon_reviews_us_Health_Personal_Care_v1_00.tsv.gz\"\n",
        "spark.sparkContext.addFile(url)\n",
        "df = spark.read.option(\"encoding\", \"UTF-8\").csv(SparkFiles.get(\"amazon_reviews_us_Health_Personal_Care_v1_00.tsv.gz\"), sep=\"\\t\", header=True, inferSchema=True, timestampFormat=\"yyyy-MM-dd\")\n",
        "df.show()"
      ],
      "metadata": {
        "colab": {
          "base_uri": "https://localhost:8080/"
        },
        "id": "MaNH8z0ok7ge",
        "outputId": "0e298383-3e70-4ef5-bd74-32f273eda638"
      },
      "execution_count": 3,
      "outputs": [
        {
          "output_type": "stream",
          "name": "stdout",
          "text": [
            "+-----------+-----------+--------------+----------+--------------+--------------------+--------------------+-----------+-------------+-----------+----+-----------------+--------------------+--------------------+-------------------+\n",
            "|marketplace|customer_id|     review_id|product_id|product_parent|       product_title|    product_category|star_rating|helpful_votes|total_votes|vine|verified_purchase|     review_headline|         review_body|        review_date|\n",
            "+-----------+-----------+--------------+----------+--------------+--------------------+--------------------+-----------+-------------+-----------+----+-----------------+--------------------+--------------------+-------------------+\n",
            "|         US|     650634| R3EQSTM9PWRAL|B0091LBZSU|     578484426|Demograss Capsule...|Health & Personal...|          3|            0|          0|   N|                Y|         Three Stars|Only came with 30...|2015-08-31 00:00:00|\n",
            "|         US|   19827510| RBWPRK17XKIXD|B00PWW3LQ6|     456433146|Viva Labs #1 Prem...|Health & Personal...|          5|            0|          0|   N|                Y|A good portable s...|Really yummy and ...|2015-08-31 00:00:00|\n",
            "|         US|    1520474| RRSLOAF273XFC|B00DKEWA92|     460764511|     Whip-it Cleaner|Health & Personal...|          5|            1|          2|   N|                Y|       You need this|You cannot go wro...|2015-08-31 00:00:00|\n",
            "|         US|   23905905|R3S8W9Q6SWIT8O|B0015R3A7M|     135102038|Optimum Nutrition...|Health & Personal...|          4|            0|          0|   N|                Y|this is a good vi...|This is a good da...|2015-08-31 00:00:00|\n",
            "|         US|   28215779|R3QQ6NSLRVBFJC|B006B8U8BG|     200666829|Wet-Stop3 Bedwett...|Health & Personal...|          4|            0|          0|   N|                Y|progress is defin...|We have been usin...|2015-08-31 00:00:00|\n",
            "|         US|   23260912|R2XYDBMHUVJCSX|B00PFZFD8Y|     344168617|NatraCure Plantar...|Health & Personal...|          2|            0|          1|   N|                Y|           Two Stars|I wear it a few t...|2015-08-31 00:00:00|\n",
            "|         US|    7965616|R1L94ESVC657A9|B0034792JG|     291831570|Glade Sense & Spr...|Health & Personal...|          5|            0|          0|   N|                Y|          Five Stars|Love this product...|2015-08-31 00:00:00|\n",
            "|         US|    3443178|R3DI4B8LDWFQ3K|B000052XIA|     493678550|Vagisil Anti-Itch...|Health & Personal...|          1|            3|          4|   N|                Y|It still is itchi...|It still is itchi...|2015-08-31 00:00:00|\n",
            "|         US|   20838781|R1G7VV4HCXUQQL|B004GCUK8A|       3902598|Glade Automatic S...|Health & Personal...|          5|            0|          0|   N|                Y|          Five Stars|               Good!|2015-08-31 00:00:00|\n",
            "|         US|   15267517|R3TTNYN1TAMUSU|B00K7W1QAO|     633971374|Kirkland Signatur...|Health & Personal...|          5|            0|          0|   N|                Y|      Will buy again|These bags are ma...|2015-08-31 00:00:00|\n",
            "|         US|   30105089|R3AMX2D9HMWV6Z|B0034KYA36|     854858899|Zyrtec Prescripti...|Health & Personal...|          5|            0|          0|   N|                Y|         Good price!|Delivered product...|2015-08-31 00:00:00|\n",
            "|         US|    1622207|R3PO3K321GY8HI|B00C7UZTT8|     264608272|Pure Garcinia Cam...|Health & Personal...|          1|            0|          0|   N|                Y|       Doesn't work.|So far I've felt ...|2015-08-31 00:00:00|\n",
            "|         US|   29856075| RVQ0UNYX6IEVK|B005F9XFN0|     638667060|Now  Better Stevi...|Health & Personal...|          1|            0|          1|   N|                Y|           not quite|Not nearly as goo...|2015-08-31 00:00:00|\n",
            "|         US|   52319463|R25E9NIGO2XQ3D|B00Q8YSPTU|     130354267|Now Foods Stevia ...|Health & Personal...|          5|            0|          0|   N|                Y|Reasonably priced...|Reasonably priced...|2015-08-31 00:00:00|\n",
            "|         US|   16857013|R3GIEXIIIR2G9Y|B00N34HBVG|     700530604|Compression Thigh...|Health & Personal...|          1|            0|          0|   N|                Y|DO NOT BUY!!!! Ve...|They are sooooooo...|2015-08-31 00:00:00|\n",
            "|         US|   12269680|R264BH3U417NXF|B002UN2UKS|     731161248|Brownmed SEAL-TIG...|Health & Personal...|          5|            0|          0|   N|                Y|Worked Great!! Ve...|Worked Great!!  V...|2015-08-31 00:00:00|\n",
            "|         US|   29116955|R2C6S0XJIMP0Z2|B003265KYK|     719831457|Botanic Choice Gl...|Health & Personal...|          5|            0|          0|   N|                Y|          Five Stars|Great price, on t...|2015-08-31 00:00:00|\n",
            "|         US|   14533949|R2LRJYGC2YYR2F|B00939J5T6|     377517622|Shibari SHIB-WHT ...|Health & Personal...|          2|            0|          0|   N|                Y|Cant handle long ...|Broke down after ...|2015-08-31 00:00:00|\n",
            "|         US|   11274313|R3SVW9ZP1CZPW7|B00LJOQKRI|     376583016|Eyekepper 5-pack ...|Health & Personal...|          1|            0|          1|   N|                Y|            One Star|I think the presc...|2015-08-31 00:00:00|\n",
            "|         US|   14861684|R1GLA6RQUF4Q79|B002TG3QPO|     813956658|Isopure Zero Carb...|Health & Personal...|          4|            0|          0|   N|                Y|          Four Stars|            Loved it|2015-08-31 00:00:00|\n",
            "+-----------+-----------+--------------+----------+--------------+--------------------+--------------------+-----------+-------------+-----------+----+-----------------+--------------------+--------------------+-------------------+\n",
            "only showing top 20 rows\n",
            "\n"
          ]
        }
      ]
    },
    {
      "cell_type": "code",
      "source": [
        "# Create the vine_table. DataFrame\n",
        "vine_df = df.select(['review_id', 'star_rating', 'helpful_votes', 'total_votes', 'vine', 'verified_purchase'])\n",
        "vine_df.show()"
      ],
      "metadata": {
        "colab": {
          "base_uri": "https://localhost:8080/"
        },
        "id": "O5csczTPlM9k",
        "outputId": "48c4d1ed-dd4e-482c-ef62-0b8afb58045c"
      },
      "execution_count": 4,
      "outputs": [
        {
          "output_type": "stream",
          "name": "stdout",
          "text": [
            "+--------------+-----------+-------------+-----------+----+-----------------+\n",
            "|     review_id|star_rating|helpful_votes|total_votes|vine|verified_purchase|\n",
            "+--------------+-----------+-------------+-----------+----+-----------------+\n",
            "| R3EQSTM9PWRAL|          3|            0|          0|   N|                Y|\n",
            "| RBWPRK17XKIXD|          5|            0|          0|   N|                Y|\n",
            "| RRSLOAF273XFC|          5|            1|          2|   N|                Y|\n",
            "|R3S8W9Q6SWIT8O|          4|            0|          0|   N|                Y|\n",
            "|R3QQ6NSLRVBFJC|          4|            0|          0|   N|                Y|\n",
            "|R2XYDBMHUVJCSX|          2|            0|          1|   N|                Y|\n",
            "|R1L94ESVC657A9|          5|            0|          0|   N|                Y|\n",
            "|R3DI4B8LDWFQ3K|          1|            3|          4|   N|                Y|\n",
            "|R1G7VV4HCXUQQL|          5|            0|          0|   N|                Y|\n",
            "|R3TTNYN1TAMUSU|          5|            0|          0|   N|                Y|\n",
            "|R3AMX2D9HMWV6Z|          5|            0|          0|   N|                Y|\n",
            "|R3PO3K321GY8HI|          1|            0|          0|   N|                Y|\n",
            "| RVQ0UNYX6IEVK|          1|            0|          1|   N|                Y|\n",
            "|R25E9NIGO2XQ3D|          5|            0|          0|   N|                Y|\n",
            "|R3GIEXIIIR2G9Y|          1|            0|          0|   N|                Y|\n",
            "|R264BH3U417NXF|          5|            0|          0|   N|                Y|\n",
            "|R2C6S0XJIMP0Z2|          5|            0|          0|   N|                Y|\n",
            "|R2LRJYGC2YYR2F|          2|            0|          0|   N|                Y|\n",
            "|R3SVW9ZP1CZPW7|          1|            0|          1|   N|                Y|\n",
            "|R1GLA6RQUF4Q79|          4|            0|          0|   N|                Y|\n",
            "+--------------+-----------+-------------+-----------+----+-----------------+\n",
            "only showing top 20 rows\n",
            "\n"
          ]
        }
      ]
    },
    {
      "cell_type": "code",
      "source": [
        "#filter vine datafare based on total_votes\n",
        "filtered_total_votes_df=vine_df.filter('total_votes>=20')\n",
        "filtered_total_votes_df.show()"
      ],
      "metadata": {
        "colab": {
          "base_uri": "https://localhost:8080/"
        },
        "id": "BZwR2BISlhEB",
        "outputId": "9f400b78-4085-49fc-c748-10dd50a457a2"
      },
      "execution_count": 5,
      "outputs": [
        {
          "output_type": "stream",
          "name": "stdout",
          "text": [
            "+--------------+-----------+-------------+-----------+----+-----------------+\n",
            "|     review_id|star_rating|helpful_votes|total_votes|vine|verified_purchase|\n",
            "+--------------+-----------+-------------+-----------+----+-----------------+\n",
            "|R2984F9VD9WDJB|          1|           37|         46|   N|                Y|\n",
            "|R218TGWCIAZYNY|          5|          191|        198|   N|                Y|\n",
            "| RGC2TLSBHLPZA|          5|           49|         50|   N|                Y|\n",
            "|R2YYVOW2RYGRM8|          5|           27|         28|   N|                Y|\n",
            "|R2X4WF89XICSB2|          1|           21|         21|   N|                Y|\n",
            "|R1M1KJ4SQE4INF|          5|           20|         21|   N|                N|\n",
            "|R1M8EEGH2TVS0Q|          1|            6|         29|   N|                Y|\n",
            "| RK8MUEWEUGV6V|          4|          105|        113|   N|                N|\n",
            "|R3JF2SBRHZITRZ|          5|           24|         26|   N|                N|\n",
            "| RLJN73T8WUYIR|          5|          124|        128|   N|                Y|\n",
            "| RYA9ESIATW4EC|          1|           23|         27|   N|                N|\n",
            "|R15RF9IWXWX3IH|          5|           25|         31|   N|                N|\n",
            "|R1GNMWLUMCOC6V|          5|           21|         23|   N|                N|\n",
            "|R3F5N905ZVOXES|          1|            3|         35|   N|                N|\n",
            "|R2SLKTWAJ7BR9K|          5|           33|         36|   N|                Y|\n",
            "|R1NKKJ720BC2VM|          5|           25|         28|   N|                Y|\n",
            "|R3ATNR4AESV090|          4|           38|         40|   N|                Y|\n",
            "|R36XRSNV1M0ADW|          5|           82|         95|   N|                Y|\n",
            "|R203G800OB64XF|          3|           57|         72|   N|                N|\n",
            "|R31LBT37BJZE6B|          1|           14|         20|   N|                Y|\n",
            "+--------------+-----------+-------------+-----------+----+-----------------+\n",
            "only showing top 20 rows\n",
            "\n"
          ]
        }
      ]
    },
    {
      "cell_type": "code",
      "source": [
        "#filter again based on helpful_votes/total_votes\n",
        "filtered_helpful_votes_df=filtered_total_votes_df.filter('helpful_votes/total_votes>=0.5')\n",
        "filtered_helpful_votes_df.show()"
      ],
      "metadata": {
        "colab": {
          "base_uri": "https://localhost:8080/"
        },
        "id": "0M73DJtUmIai",
        "outputId": "079b8dba-6c47-4fb9-b875-b79017e54509"
      },
      "execution_count": 6,
      "outputs": [
        {
          "output_type": "stream",
          "name": "stdout",
          "text": [
            "+--------------+-----------+-------------+-----------+----+-----------------+\n",
            "|     review_id|star_rating|helpful_votes|total_votes|vine|verified_purchase|\n",
            "+--------------+-----------+-------------+-----------+----+-----------------+\n",
            "|R2984F9VD9WDJB|          1|           37|         46|   N|                Y|\n",
            "|R218TGWCIAZYNY|          5|          191|        198|   N|                Y|\n",
            "| RGC2TLSBHLPZA|          5|           49|         50|   N|                Y|\n",
            "|R2YYVOW2RYGRM8|          5|           27|         28|   N|                Y|\n",
            "|R2X4WF89XICSB2|          1|           21|         21|   N|                Y|\n",
            "|R1M1KJ4SQE4INF|          5|           20|         21|   N|                N|\n",
            "| RK8MUEWEUGV6V|          4|          105|        113|   N|                N|\n",
            "|R3JF2SBRHZITRZ|          5|           24|         26|   N|                N|\n",
            "| RLJN73T8WUYIR|          5|          124|        128|   N|                Y|\n",
            "| RYA9ESIATW4EC|          1|           23|         27|   N|                N|\n",
            "|R15RF9IWXWX3IH|          5|           25|         31|   N|                N|\n",
            "|R1GNMWLUMCOC6V|          5|           21|         23|   N|                N|\n",
            "|R2SLKTWAJ7BR9K|          5|           33|         36|   N|                Y|\n",
            "|R1NKKJ720BC2VM|          5|           25|         28|   N|                Y|\n",
            "|R3ATNR4AESV090|          4|           38|         40|   N|                Y|\n",
            "|R36XRSNV1M0ADW|          5|           82|         95|   N|                Y|\n",
            "|R203G800OB64XF|          3|           57|         72|   N|                N|\n",
            "|R31LBT37BJZE6B|          1|           14|         20|   N|                Y|\n",
            "|R119CG8XK73M2B|          5|           77|         77|   N|                Y|\n",
            "| RCOVDTGR8NH87|          5|           59|         67|   N|                N|\n",
            "+--------------+-----------+-------------+-----------+----+-----------------+\n",
            "only showing top 20 rows\n",
            "\n"
          ]
        }
      ]
    },
    {
      "cell_type": "code",
      "source": [
        "paid_df=filtered_helpful_votes_df.filter(\"vine == 'Y'\")\n",
        "paid_df.show()"
      ],
      "metadata": {
        "colab": {
          "base_uri": "https://localhost:8080/"
        },
        "id": "JyYqSAqhmsxB",
        "outputId": "a3e87c88-dc0e-486a-eb5d-fa81babcc1f8"
      },
      "execution_count": 8,
      "outputs": [
        {
          "output_type": "stream",
          "name": "stdout",
          "text": [
            "+--------------+-----------+-------------+-----------+----+-----------------+\n",
            "|     review_id|star_rating|helpful_votes|total_votes|vine|verified_purchase|\n",
            "+--------------+-----------+-------------+-----------+----+-----------------+\n",
            "| RG70K1HMY4LXX|          4|           37|         44|   Y|                N|\n",
            "|R1DHGTNXDXJ0GB|          5|           78|         93|   Y|                N|\n",
            "|R3B5S3OSA8N6AO|          5|           38|         43|   Y|                N|\n",
            "|R29X0YBS0SBIUP|          5|           56|         74|   Y|                N|\n",
            "|R1ZEDMCU6NYC8Q|          3|           26|         27|   Y|                N|\n",
            "| RVBJM1LUI9X9K|          5|           27|         28|   Y|                N|\n",
            "| R1KASHD9QSDMV|          4|           18|         21|   Y|                N|\n",
            "|R1M3LATUI38MK0|          5|           46|         50|   Y|                N|\n",
            "|R20JZQ3AQVYNAU|          4|          103|        113|   Y|                N|\n",
            "|R1EHXYTMBO4D28|          1|           56|         61|   Y|                N|\n",
            "|R3FIEE8HAF008L|          1|           23|         26|   Y|                N|\n",
            "| RZJ5628PIAE8M|          4|           23|         23|   Y|                N|\n",
            "|R2YTV8JFB132UU|          5|           29|         35|   Y|                N|\n",
            "| R9B39IY63XE6H|          1|           88|         97|   Y|                N|\n",
            "|R3IYA2K7643J5F|          3|           28|         35|   Y|                N|\n",
            "|R25HQLXMBJABQL|          5|           93|         97|   Y|                N|\n",
            "|R1NCMEN9DCHB2U|          3|           92|        100|   Y|                N|\n",
            "| RFN5GI4LWX31V|          2|           43|         49|   Y|                N|\n",
            "|R1DLUEYOWRMJ2K|          5|          130|        142|   Y|                N|\n",
            "| RXDWRD20KTQO1|          4|           24|         24|   Y|                N|\n",
            "+--------------+-----------+-------------+-----------+----+-----------------+\n",
            "only showing top 20 rows\n",
            "\n"
          ]
        }
      ]
    },
    {
      "cell_type": "code",
      "source": [
        "unpaid_df=filtered_helpful_votes_df.filter(\"vine == 'N'\")\n",
        "unpaid_df.show()"
      ],
      "metadata": {
        "colab": {
          "base_uri": "https://localhost:8080/"
        },
        "id": "3mVqXElsnGqM",
        "outputId": "11284930-8439-4f6f-9643-14abfa2398f9"
      },
      "execution_count": 9,
      "outputs": [
        {
          "output_type": "stream",
          "name": "stdout",
          "text": [
            "+--------------+-----------+-------------+-----------+----+-----------------+\n",
            "|     review_id|star_rating|helpful_votes|total_votes|vine|verified_purchase|\n",
            "+--------------+-----------+-------------+-----------+----+-----------------+\n",
            "|R2984F9VD9WDJB|          1|           37|         46|   N|                Y|\n",
            "|R218TGWCIAZYNY|          5|          191|        198|   N|                Y|\n",
            "| RGC2TLSBHLPZA|          5|           49|         50|   N|                Y|\n",
            "|R2YYVOW2RYGRM8|          5|           27|         28|   N|                Y|\n",
            "|R2X4WF89XICSB2|          1|           21|         21|   N|                Y|\n",
            "|R1M1KJ4SQE4INF|          5|           20|         21|   N|                N|\n",
            "| RK8MUEWEUGV6V|          4|          105|        113|   N|                N|\n",
            "|R3JF2SBRHZITRZ|          5|           24|         26|   N|                N|\n",
            "| RLJN73T8WUYIR|          5|          124|        128|   N|                Y|\n",
            "| RYA9ESIATW4EC|          1|           23|         27|   N|                N|\n",
            "|R15RF9IWXWX3IH|          5|           25|         31|   N|                N|\n",
            "|R1GNMWLUMCOC6V|          5|           21|         23|   N|                N|\n",
            "|R2SLKTWAJ7BR9K|          5|           33|         36|   N|                Y|\n",
            "|R1NKKJ720BC2VM|          5|           25|         28|   N|                Y|\n",
            "|R3ATNR4AESV090|          4|           38|         40|   N|                Y|\n",
            "|R36XRSNV1M0ADW|          5|           82|         95|   N|                Y|\n",
            "|R203G800OB64XF|          3|           57|         72|   N|                N|\n",
            "|R31LBT37BJZE6B|          1|           14|         20|   N|                Y|\n",
            "|R119CG8XK73M2B|          5|           77|         77|   N|                Y|\n",
            "| RCOVDTGR8NH87|          5|           59|         67|   N|                N|\n",
            "+--------------+-----------+-------------+-----------+----+-----------------+\n",
            "only showing top 20 rows\n",
            "\n"
          ]
        }
      ]
    },
    {
      "cell_type": "code",
      "source": [
        "#Determine the total number of reviews\n",
        "total_no_review=vine_df.count()\n",
        "print(total_no_review)"
      ],
      "metadata": {
        "colab": {
          "base_uri": "https://localhost:8080/"
        },
        "id": "9bP8LZjJnTuW",
        "outputId": "68eed99f-ce8f-4b00-db98-9fb9e1fcde51"
      },
      "execution_count": 11,
      "outputs": [
        {
          "output_type": "stream",
          "name": "stdout",
          "text": [
            "5331449\n"
          ]
        }
      ]
    },
    {
      "cell_type": "code",
      "source": [
        "#Determine number of 5-star review\n",
        "fivestar_count=vine_df.filter('star_rating == 5').count()\n",
        "print(fivestar_count)"
      ],
      "metadata": {
        "colab": {
          "base_uri": "https://localhost:8080/"
        },
        "id": "bm7FJ2BQoEY0",
        "outputId": "759e021f-118f-418d-de3e-bbc40d4e3b8e"
      },
      "execution_count": 12,
      "outputs": [
        {
          "output_type": "stream",
          "name": "stdout",
          "text": [
            "3358086\n"
          ]
        }
      ]
    },
    {
      "cell_type": "code",
      "source": [
        "#find total count of paid and 5-star review count to determine the percentage of 5-star reviews for for paid\n",
        "total_paid=vine_df.filter(\"vine == 'Y'\").count()\n",
        "print(total_paid)\n",
        "fivestar_paid=vine_df.filter(\"vine == 'Y' and star_rating == 5\").count()\n",
        "print(fivestar_paid)\n",
        "print(f\"percentage of 5-star reviews for for paid: {fivestar_paid/total_paid*100}\")"
      ],
      "metadata": {
        "colab": {
          "base_uri": "https://localhost:8080/"
        },
        "id": "P4CiF8Rvol7S",
        "outputId": "e75bbd5b-5074-4588-8a9f-c48f8aa16ce3"
      },
      "execution_count": 13,
      "outputs": [
        {
          "output_type": "stream",
          "name": "stdout",
          "text": [
            "32026\n",
            "13127\n",
            "percentage of 5-star reviews for for paid: 40.98857178542434\n"
          ]
        }
      ]
    },
    {
      "cell_type": "code",
      "source": [
        "#find total count of paid and 5-star review count to determine the percentage of 5-star reviews for for unpaid\n",
        "total_unpaid=vine_df.filter(\"vine == 'N'\").count()\n",
        "print(total_unpaid)\n",
        "fivestar_unpaid=vine_df.filter(\"vine == 'N' and star_rating == 5\").count()\n",
        "print(fivestar_unpaid)\n",
        "print(f\"percentage of 5-star reviews for for unpaid: {fivestar_unpaid/total_unpaid*100}\")"
      ],
      "metadata": {
        "colab": {
          "base_uri": "https://localhost:8080/"
        },
        "id": "zii7uS9epmH0",
        "outputId": "ec5dee1d-e3d1-4733-b1a6-e5e85e7f7679"
      },
      "execution_count": 14,
      "outputs": [
        {
          "output_type": "stream",
          "name": "stdout",
          "text": [
            "5299189\n",
            "3344959\n",
            "percentage of 5-star reviews for for unpaid: 63.12209283345055\n"
          ]
        }
      ]
    },
    {
      "cell_type": "code",
      "source": [],
      "metadata": {
        "id": "Lk34JoE2qETS"
      },
      "execution_count": null,
      "outputs": []
    }
  ]
}